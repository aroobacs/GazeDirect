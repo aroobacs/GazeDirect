{
 "cells": [
  {
   "cell_type": "code",
   "execution_count": 18,
   "metadata": {
    "collapsed": true
   },
   "outputs": [],
   "source": [
    "import pandas as pd"
   ]
  },
  {
   "cell_type": "code",
   "execution_count": 19,
   "outputs": [],
   "source": [
    "config_datasheet = r'./results/preprocessed.xlsx'"
   ],
   "metadata": {
    "collapsed": false,
    "pycharm": {
     "name": "#%%\n"
    }
   }
  },
  {
   "cell_type": "code",
   "execution_count": 21,
   "outputs": [
    {
     "data": {
      "text/plain": "     case factor      algorithm         answer    idk  time  correctness\n0     198     TI   BinarySearch         Arooba  False     8        False\n1     211     TI   BinarySearch              3  False    58         True\n2     224     TI   BinarySearch              3  False    30         True\n3     231     TI   BinarySearch              3  False    85         True\n4     232     TI   BinarySearch              3  False     5         True\n..    ...    ...            ...            ...    ...   ...          ...\n152   182     BI  ReverseString         Arooba  False     4        False\n153   210     BI  ReverseString    gnikcarTeyE  False    72         True\n154   212     BI  ReverseString    gnikcarTeyE  False    60         True\n155   226     BI  ReverseString  \"gnikcarTeyE\"  False    29         True\n156   234     BI  ReverseString              9  False   113        False\n\n[157 rows x 7 columns]",
      "text/html": "<div>\n<style scoped>\n    .dataframe tbody tr th:only-of-type {\n        vertical-align: middle;\n    }\n\n    .dataframe tbody tr th {\n        vertical-align: top;\n    }\n\n    .dataframe thead th {\n        text-align: right;\n    }\n</style>\n<table border=\"1\" class=\"dataframe\">\n  <thead>\n    <tr style=\"text-align: right;\">\n      <th></th>\n      <th>case</th>\n      <th>factor</th>\n      <th>algorithm</th>\n      <th>answer</th>\n      <th>idk</th>\n      <th>time</th>\n      <th>correctness</th>\n    </tr>\n  </thead>\n  <tbody>\n    <tr>\n      <th>0</th>\n      <td>198</td>\n      <td>TI</td>\n      <td>BinarySearch</td>\n      <td>Arooba</td>\n      <td>False</td>\n      <td>8</td>\n      <td>False</td>\n    </tr>\n    <tr>\n      <th>1</th>\n      <td>211</td>\n      <td>TI</td>\n      <td>BinarySearch</td>\n      <td>3</td>\n      <td>False</td>\n      <td>58</td>\n      <td>True</td>\n    </tr>\n    <tr>\n      <th>2</th>\n      <td>224</td>\n      <td>TI</td>\n      <td>BinarySearch</td>\n      <td>3</td>\n      <td>False</td>\n      <td>30</td>\n      <td>True</td>\n    </tr>\n    <tr>\n      <th>3</th>\n      <td>231</td>\n      <td>TI</td>\n      <td>BinarySearch</td>\n      <td>3</td>\n      <td>False</td>\n      <td>85</td>\n      <td>True</td>\n    </tr>\n    <tr>\n      <th>4</th>\n      <td>232</td>\n      <td>TI</td>\n      <td>BinarySearch</td>\n      <td>3</td>\n      <td>False</td>\n      <td>5</td>\n      <td>True</td>\n    </tr>\n    <tr>\n      <th>...</th>\n      <td>...</td>\n      <td>...</td>\n      <td>...</td>\n      <td>...</td>\n      <td>...</td>\n      <td>...</td>\n      <td>...</td>\n    </tr>\n    <tr>\n      <th>152</th>\n      <td>182</td>\n      <td>BI</td>\n      <td>ReverseString</td>\n      <td>Arooba</td>\n      <td>False</td>\n      <td>4</td>\n      <td>False</td>\n    </tr>\n    <tr>\n      <th>153</th>\n      <td>210</td>\n      <td>BI</td>\n      <td>ReverseString</td>\n      <td>gnikcarTeyE</td>\n      <td>False</td>\n      <td>72</td>\n      <td>True</td>\n    </tr>\n    <tr>\n      <th>154</th>\n      <td>212</td>\n      <td>BI</td>\n      <td>ReverseString</td>\n      <td>gnikcarTeyE</td>\n      <td>False</td>\n      <td>60</td>\n      <td>True</td>\n    </tr>\n    <tr>\n      <th>155</th>\n      <td>226</td>\n      <td>BI</td>\n      <td>ReverseString</td>\n      <td>\"gnikcarTeyE\"</td>\n      <td>False</td>\n      <td>29</td>\n      <td>True</td>\n    </tr>\n    <tr>\n      <th>156</th>\n      <td>234</td>\n      <td>BI</td>\n      <td>ReverseString</td>\n      <td>9</td>\n      <td>False</td>\n      <td>113</td>\n      <td>False</td>\n    </tr>\n  </tbody>\n</table>\n<p>157 rows × 7 columns</p>\n</div>"
     },
     "execution_count": 21,
     "metadata": {},
     "output_type": "execute_result"
    }
   ],
   "source": [
    "df_raw = pd.read_excel(config_datasheet)\n",
    "df_raw"
   ],
   "metadata": {
    "collapsed": false,
    "pycharm": {
     "name": "#%%\n"
    }
   }
  },
  {
   "cell_type": "code",
   "execution_count": 26,
   "outputs": [
    {
     "data": {
      "text/plain": "     case factor      algorithm         answer    idk  time  correctness  \\\n0     198     TI   BinarySearch         Arooba  False     8        False   \n1     211     TI   BinarySearch              3  False    58         True   \n2     224     TI   BinarySearch              3  False    30         True   \n3     231     TI   BinarySearch              3  False    85         True   \n4     232     TI   BinarySearch              3  False     5         True   \n..    ...    ...            ...            ...    ...   ...          ...   \n152   182     BI  ReverseString         Arooba  False     4        False   \n153   210     BI  ReverseString    gnikcarTeyE  False    72         True   \n154   212     BI  ReverseString    gnikcarTeyE  False    60         True   \n155   226     BI  ReverseString  \"gnikcarTeyE\"  False    29         True   \n156   234     BI  ReverseString              9  False   113        False   \n\n     Outlier  \n0      False  \n1      False  \n2      False  \n3      False  \n4      False  \n..       ...  \n152    False  \n153    False  \n154    False  \n155    False  \n156    False  \n\n[157 rows x 8 columns]",
      "text/html": "<div>\n<style scoped>\n    .dataframe tbody tr th:only-of-type {\n        vertical-align: middle;\n    }\n\n    .dataframe tbody tr th {\n        vertical-align: top;\n    }\n\n    .dataframe thead th {\n        text-align: right;\n    }\n</style>\n<table border=\"1\" class=\"dataframe\">\n  <thead>\n    <tr style=\"text-align: right;\">\n      <th></th>\n      <th>case</th>\n      <th>factor</th>\n      <th>algorithm</th>\n      <th>answer</th>\n      <th>idk</th>\n      <th>time</th>\n      <th>correctness</th>\n      <th>Outlier</th>\n    </tr>\n  </thead>\n  <tbody>\n    <tr>\n      <th>0</th>\n      <td>198</td>\n      <td>TI</td>\n      <td>BinarySearch</td>\n      <td>Arooba</td>\n      <td>False</td>\n      <td>8</td>\n      <td>False</td>\n      <td>False</td>\n    </tr>\n    <tr>\n      <th>1</th>\n      <td>211</td>\n      <td>TI</td>\n      <td>BinarySearch</td>\n      <td>3</td>\n      <td>False</td>\n      <td>58</td>\n      <td>True</td>\n      <td>False</td>\n    </tr>\n    <tr>\n      <th>2</th>\n      <td>224</td>\n      <td>TI</td>\n      <td>BinarySearch</td>\n      <td>3</td>\n      <td>False</td>\n      <td>30</td>\n      <td>True</td>\n      <td>False</td>\n    </tr>\n    <tr>\n      <th>3</th>\n      <td>231</td>\n      <td>TI</td>\n      <td>BinarySearch</td>\n      <td>3</td>\n      <td>False</td>\n      <td>85</td>\n      <td>True</td>\n      <td>False</td>\n    </tr>\n    <tr>\n      <th>4</th>\n      <td>232</td>\n      <td>TI</td>\n      <td>BinarySearch</td>\n      <td>3</td>\n      <td>False</td>\n      <td>5</td>\n      <td>True</td>\n      <td>False</td>\n    </tr>\n    <tr>\n      <th>...</th>\n      <td>...</td>\n      <td>...</td>\n      <td>...</td>\n      <td>...</td>\n      <td>...</td>\n      <td>...</td>\n      <td>...</td>\n      <td>...</td>\n    </tr>\n    <tr>\n      <th>152</th>\n      <td>182</td>\n      <td>BI</td>\n      <td>ReverseString</td>\n      <td>Arooba</td>\n      <td>False</td>\n      <td>4</td>\n      <td>False</td>\n      <td>False</td>\n    </tr>\n    <tr>\n      <th>153</th>\n      <td>210</td>\n      <td>BI</td>\n      <td>ReverseString</td>\n      <td>gnikcarTeyE</td>\n      <td>False</td>\n      <td>72</td>\n      <td>True</td>\n      <td>False</td>\n    </tr>\n    <tr>\n      <th>154</th>\n      <td>212</td>\n      <td>BI</td>\n      <td>ReverseString</td>\n      <td>gnikcarTeyE</td>\n      <td>False</td>\n      <td>60</td>\n      <td>True</td>\n      <td>False</td>\n    </tr>\n    <tr>\n      <th>155</th>\n      <td>226</td>\n      <td>BI</td>\n      <td>ReverseString</td>\n      <td>\"gnikcarTeyE\"</td>\n      <td>False</td>\n      <td>29</td>\n      <td>True</td>\n      <td>False</td>\n    </tr>\n    <tr>\n      <th>156</th>\n      <td>234</td>\n      <td>BI</td>\n      <td>ReverseString</td>\n      <td>9</td>\n      <td>False</td>\n      <td>113</td>\n      <td>False</td>\n      <td>False</td>\n    </tr>\n  </tbody>\n</table>\n<p>157 rows × 8 columns</p>\n</div>"
     },
     "execution_count": 26,
     "metadata": {},
     "output_type": "execute_result"
    }
   ],
   "source": [
    "df_raw[\"Outlier\"] = False\n",
    "for factor in df_raw[\"factor\"].unique():\n",
    "    df_sub = df_raw[df_raw[\"factor\"] == factor]\n",
    "    low = df_sub[\"time\"].quantile(0.05)\n",
    "    #high = df_sub[\"time\"].quantile(0.95)\n",
    "    df_sub = df_sub[df_sub[\"answer\"].notna()]\n",
    "    df_outlier = df_sub[(df_sub[\"time\"] < low) & (df_sub[\"correctness\"] == False)]\n",
    "    for idx, row in df_outlier.iterrows():\n",
    "        df_raw.loc[idx, \"Outlier\"] = True\n",
    "df_raw.loc[df_raw[\"answer\"].isna(), \"Outlier\"] = True\n",
    "df_raw"
   ],
   "metadata": {
    "collapsed": false,
    "pycharm": {
     "name": "#%%\n"
    }
   }
  },
  {
   "cell_type": "code",
   "execution_count": 27,
   "outputs": [],
   "source": [
    "df_raw.to_excel(config_datasheet, index=False)"
   ],
   "metadata": {
    "collapsed": false,
    "pycharm": {
     "name": "#%%\n"
    }
   }
  },
  {
   "cell_type": "code",
   "execution_count": null,
   "outputs": [],
   "source": [],
   "metadata": {
    "collapsed": false,
    "pycharm": {
     "name": "#%%\n"
    }
   }
  }
 ],
 "metadata": {
  "kernelspec": {
   "display_name": "Python 3",
   "language": "python",
   "name": "python3"
  },
  "language_info": {
   "codemirror_mode": {
    "name": "ipython",
    "version": 2
   },
   "file_extension": ".py",
   "mimetype": "text/x-python",
   "name": "python",
   "nbconvert_exporter": "python",
   "pygments_lexer": "ipython2",
   "version": "2.7.6"
  }
 },
 "nbformat": 4,
 "nbformat_minor": 0
}