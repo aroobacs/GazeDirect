{
 "cells": [
  {
   "cell_type": "code",
   "execution_count": 1,
   "metadata": {},
   "outputs": [],
   "source": [
    "from ipynb.fs.full.GenSnippetsLib import *\n",
    "from pygments.lexers import Python3Lexer\n",
    "import os"
   ]
  },
  {
   "cell_type": "code",
   "execution_count": 2,
   "metadata": {},
   "outputs": [],
   "source": [
    "generator_folder = os.getcwd() + \"\\\\CodeSnippets\\\\Generators\"\n",
    "snippet_folder = os.getcwd() + \"\\\\CodeSnippets\\\\Snippets\"\n",
    "\n",
    "files = os.listdir(generator_folder)\n",
    "\n",
    "for file in files:\n",
    "    filename, _file_extension = os.path.splitext(file)\n",
    "    img, result = create_image(generator_folder + \"\\\\\" + file)\n",
    "    img.save(snippet_folder + \"\\\\\" + filename + \".png\", lexer=Python3Lexer)"
   ]
  },
  {
   "cell_type": "code",
   "execution_count": null,
   "metadata": {},
   "outputs": [],
   "source": []
  }
 ],
 "metadata": {
  "kernelspec": {
   "display_name": "Python 3",
   "language": "python",
   "name": "python3"
  },
  "language_info": {
   "codemirror_mode": {
    "name": "ipython",
    "version": 3
   },
   "file_extension": ".py",
   "mimetype": "text/x-python",
   "name": "python",
   "nbconvert_exporter": "python",
   "pygments_lexer": "ipython3",
   "version": "3.8.8"
  }
 },
 "nbformat": 4,
 "nbformat_minor": 4
}
