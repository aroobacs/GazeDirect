{
 "cells": [
  {
   "cell_type": "code",
   "execution_count": 22,
   "metadata": {},
   "outputs": [],
   "source": [
    "import json\n",
    "import os"
   ]
  },
  {
   "cell_type": "code",
   "execution_count": 23,
   "metadata": {},
   "outputs": [],
   "source": [
    "data_template = {\n",
    "    \"font-normal\" : \"JetBrainsMono-Regular.ttf\",\n",
    "    \"font-bold\" : \"JetBrainsMono-Bold.ttf\",\n",
    "    \"font-italic\" : \"JetBrainsMono-BoldItalic.ttf\",\n",
    "    \"font-bold-italic\" : \"JetBrainsMono-Italic.ttf\",\n",
    "    \"font-size\" : 14,\n",
    "    \"width-margin\" : 5,\n",
    "    \"height-margin\" : 5,\n",
    "    \"spacing\" : 8,\n",
    "    \"background-color\" : [255, 255, 255],\n",
    "}"
   ]
  },
  {
   "cell_type": "code",
   "execution_count": 24,
   "metadata": {},
   "outputs": [],
   "source": [
    "source_folder = os.getcwd() + \"\\\\CodeSnippets\\\\Source\\\\TDI\"\n",
    "generator_folder = os.getcwd() + \"\\\\CodeSnippets\\\\Generators\\\\TDI\"\n",
    "files = os.listdir(source_folder)\n",
    "\n",
    "data_dict = {}\n",
    "for file in files:\n",
    "    filename, _file_extension = os.path.splitext(file)\n",
    "    file_data = open(source_folder + \"\\\\\" + file, \"r\")\n",
    "    file_data = file_data.read()\n",
    "    file_data = file_data.replace(\"\\t\", \"    \")\n",
    "    file_data_splitted = file_data.split(\"\\n\")\n",
    "    \n",
    "    data_dict[filename] = file_data_splitted\n",
    "    \n",
    "for key, value in data_dict.items():\n",
    "    template = data_template.copy()\n",
    "    template[\"source-code\"] = value\n",
    "    data_dict[key] = template\n",
    "\n",
    "for key, value in data_dict.items():\n",
    "    name = key + \".json\"\n",
    "    file_data = json.dumps(value, indent=4, separators=(',', ': '))\n",
    "    f = open(generator_folder + \"\\\\TDI_\" + name, \"w\")\n",
    "    f.write(file_data)\n",
    "    f.close()"
   ]
  },
  {
   "cell_type": "code",
   "execution_count": 29,
   "metadata": {},
   "outputs": [],
   "source": [
    "source_folder = os.getcwd() + \"\\\\CodeSnippets\\\\Source\\\\TDR\"\n",
    "generator_folder = os.getcwd() + \"\\\\CodeSnippets\\\\Generators\\\\TDR\"\n",
    "files = os.listdir(source_folder)\n",
    "\n",
    "data_dict = {}\n",
    "for file in files:\n",
    "    filename, _file_extension = os.path.splitext(file)\n",
    "    file_data = open(source_folder + \"\\\\\" + file, \"r\")\n",
    "    file_data = file_data.read()\n",
    "    file_data = file_data.replace(\"\\t\", \"    \")\n",
    "    file_data_splitted = file_data.split(\"\\n\")\n",
    "    \n",
    "    data_dict[filename] = file_data_splitted\n",
    "    \n",
    "for key, value in data_dict.items():\n",
    "    template = data_template.copy()\n",
    "    template[\"source-code\"] = value\n",
    "    data_dict[key] = template\n",
    "\n",
    "for key, value in data_dict.items():\n",
    "    name = key + \".json\"\n",
    "    file_data = json.dumps(value, indent=4, separators=(',', ': '))\n",
    "    f = open(generator_folder + \"\\\\TDR_\" + name, \"w\")\n",
    "    f.write(file_data)\n",
    "    f.close()"
   ]
  },
  {
   "cell_type": "code",
   "execution_count": 26,
   "metadata": {},
   "outputs": [],
   "source": [
    "source_folder = os.getcwd() + \"\\\\CodeSnippets\\\\Source\\\\BUR\"\n",
    "generator_folder = os.getcwd() + \"\\\\CodeSnippets\\\\Generators\\\\BUR\"\n",
    "files = os.listdir(source_folder)\n",
    "\n",
    "data_dict = {}\n",
    "for file in files:\n",
    "    filename, _file_extension = os.path.splitext(file)\n",
    "    file_data = open(source_folder + \"\\\\\" + file, \"r\")\n",
    "    file_data = file_data.read()\n",
    "    file_data = file_data.replace(\"\\t\", \"    \")\n",
    "    file_data_splitted = file_data.split(\"\\n\")\n",
    "    \n",
    "    data_dict[filename] = file_data_splitted\n",
    "    \n",
    "for key, value in data_dict.items():\n",
    "    template = data_template.copy()\n",
    "    template[\"source-code\"] = value\n",
    "    data_dict[key] = template\n",
    "\n",
    "for key, value in data_dict.items():\n",
    "    name = key + \".json\"\n",
    "    file_data = json.dumps(value, indent=4, separators=(',', ': '))\n",
    "    f = open(generator_folder + \"\\\\BUR_\" + name, \"w\")\n",
    "    f.write(file_data)\n",
    "    f.close()"
   ]
  },
  {
   "cell_type": "code",
   "execution_count": 28,
   "metadata": {},
   "outputs": [],
   "source": [
    "source_folder = os.getcwd() + \"\\\\CodeSnippets\\\\Source\\\\BUI\"\n",
    "generator_folder = os.getcwd() + \"\\\\CodeSnippets\\\\Generators\\\\BUI\"\n",
    "files = os.listdir(source_folder)\n",
    "\n",
    "data_dict = {}\n",
    "for file in files:\n",
    "    filename, _file_extension = os.path.splitext(file)\n",
    "    file_data = open(source_folder + \"\\\\\" + file, \"r\")\n",
    "    file_data = file_data.read()\n",
    "    file_data = file_data.replace(\"\\t\", \"    \")\n",
    "    file_data_splitted = file_data.split(\"\\n\")\n",
    "    \n",
    "    data_dict[filename] = file_data_splitted\n",
    "    \n",
    "for key, value in data_dict.items():\n",
    "    template = data_template.copy()\n",
    "    template[\"source-code\"] = value\n",
    "    data_dict[key] = template\n",
    "\n",
    "for key, value in data_dict.items():\n",
    "    name = key + \".json\"\n",
    "    file_data = json.dumps(value, indent=4, separators=(',', ': '))\n",
    "    f = open(generator_folder + \"\\\\BUI_\" + name, \"w\")\n",
    "    f.write(file_data)\n",
    "    f.close()"
   ]
  },
  {
   "cell_type": "code",
   "execution_count": null,
   "metadata": {},
   "outputs": [],
   "source": []
  }
 ],
 "metadata": {
  "kernelspec": {
   "display_name": "Python 3",
   "language": "python",
   "name": "python3"
  },
  "language_info": {
   "codemirror_mode": {
    "name": "ipython",
    "version": 3
   },
   "file_extension": ".py",
   "mimetype": "text/x-python",
   "name": "python",
   "nbconvert_exporter": "python",
   "pygments_lexer": "ipython3",
   "version": "3.8.5"
  }
 },
 "nbformat": 4,
 "nbformat_minor": 4
}
