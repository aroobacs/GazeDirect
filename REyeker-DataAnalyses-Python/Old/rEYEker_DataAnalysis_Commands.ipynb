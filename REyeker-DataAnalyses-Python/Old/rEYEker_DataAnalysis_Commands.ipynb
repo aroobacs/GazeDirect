{
 "cells": [
  {
   "cell_type": "markdown",
   "metadata": {},
   "source": [
    "<h1> rEYEker Data Analysis Functions<h1>"
   ]
  },
  {
   "cell_type": "markdown",
   "metadata": {},
   "source": [
    "<h2>Make sure to have the following packages installed:</h2>"
   ]
  },
  {
   "cell_type": "code",
   "execution_count": null,
   "metadata": {},
   "outputs": [],
   "source": [
    "\"\"\"\n",
    "conda install numpy\n",
    "conda install matplotlib\n",
    "conda install pip\n",
    "pip install bresenham\n",
    "\"\"\""
   ]
  },
  {
   "cell_type": "markdown",
   "metadata": {},
   "source": [
    "<h2>Import of The Modules<h2>"
   ]
  },
  {
   "cell_type": "code",
   "execution_count": null,
   "metadata": {},
   "outputs": [],
   "source": [
    "import modules.rEYEkerAnalysis as rEYEker\n",
    "import modules.semanticClassifier as semCls"
   ]
  },
  {
   "cell_type": "markdown",
   "metadata": {},
   "source": [
    "<h2>Load Data from Files<h2>"
   ]
  },
  {
   "cell_type": "code",
   "execution_count": null,
   "metadata": {},
   "outputs": [],
   "source": [
    "# load some image\n",
    "image = rEYEker.load_image(\"images/InsertSort.PNG\")\n",
    "\n",
    "# load the classifier if there are some, u can use data sheet from dataAnalysis 1.0\n",
    "classifier = rEYEker.load_semantic_classifier_from_json(\"data/example.json\")\n",
    "\n",
    "# load the classifier if there are some, u can use data sheet from dataAnalysis 1.0\n",
    "(data, times, click_setting) = rEYEker.load_data_from_json(\"data/example.json\")"
   ]
  },
  {
   "cell_type": "markdown",
   "metadata": {},
   "source": [
    "<h2> Custom Import if needed (dont use it) <h2>"
   ]
  },
  {
   "cell_type": "code",
   "execution_count": null,
   "metadata": {},
   "outputs": [],
   "source": [
    "##custom import\n",
    "# data_str = \"317-140 368-263 313-427 352-555 402-696 410-736 517-715 360-770 524-782 558-690 330-578 293-448 326-300 306-183\"\n",
    "#\n",
    "# click_data = []\n",
    "# coordinates_str = data_str.split(\" \")\n",
    "# coordinates = []\n",
    "# for coordinate_str in coordinates_str:\n",
    "#    coordinate = coordinate_str.split(\"-\")\n",
    "#    coordinate = (int(coordinate[0]), int(coordinate[1]))\n",
    "#    coordinates.append(coordinate)\n",
    "# click_data.append(coordinates)\n",
    "#\n",
    "# data = click_data"
   ]
  },
  {
   "cell_type": "markdown",
   "metadata": {},
   "source": [
    "<h2> Vertical Line Drawing</h2>"
   ]
  },
  {
   "cell_type": "code",
   "execution_count": null,
   "metadata": {},
   "outputs": [],
   "source": [
    "im = rEYEker.draw_vertical_line_diagram(image, data[0], should_copy=True)\n",
    "rEYEker.display(im, normal_size=False)"
   ]
  },
  {
   "cell_type": "markdown",
   "metadata": {},
   "source": [
    "<h2>Rectangle, Line, Row View<h2>"
   ]
  },
  {
   "cell_type": "code",
   "execution_count": null,
   "metadata": {},
   "outputs": [],
   "source": [
    "# draw rectangle view for one datapoint in one dataset\n",
    "im0 = rEYEker.draw_rectangle_view(image, data[0][1], click_setting, should_copy=True)\n",
    "\n",
    "# draw line view for one datapoint in one dataset\n",
    "im1 = rEYEker.draw_line_view(image, data[0][1], click_setting, should_copy=True)\n",
    "\n",
    "# draw row view for one datapoint in one dataset\n",
    "im2 = rEYEker.draw_row_view(image, data[0][1], click_setting, should_copy=True)\n",
    "\n",
    "\n",
    "rEYEker.display(im0, normal_size=False)\n",
    "rEYEker.display(im1, normal_size=False)\n",
    "rEYEker.display(im2, normal_size=False)"
   ]
  },
  {
   "cell_type": "markdown",
   "metadata": {},
   "source": [
    "<h2>Heatmaps<h2>"
   ]
  },
  {
   "cell_type": "code",
   "execution_count": null,
   "metadata": {},
   "outputs": [],
   "source": [
    "# draw rectangle heat map\n",
    "im3 = rEYEker.draw_shape_heat_map(image, data[0], click_setting, should_copy=True)\n",
    "rEYEker.display(im3, normal_size=False)\n",
    "\n",
    "# draw vertical heat map\n",
    "# im4 = rEYEker.draw_vertical_heat_map(image, data[0], click_setting, should_copy=True)\n",
    "# rEYEker.display(im4, normal_size=False)\n",
    "\n",
    "# draw horizontal heat map\n",
    "# im5 = rEYEker.draw_horizontal_heat_map(image, data[0], click_setting, should_copy=True)\n",
    "# rEYEker.display(im5, normal_size=False)"
   ]
  },
  {
   "cell_type": "markdown",
   "metadata": {},
   "source": [
    "<h2>Line Diagramms<h2>"
   ]
  },
  {
   "cell_type": "code",
   "execution_count": null,
   "metadata": {},
   "outputs": [],
   "source": [
    "# draw vertical line diagramm\n",
    "im6 = rEYEker.draw_vertical_line_diagram(image, data[0], should_copy=True)\n",
    "rEYEker.display(im6, normal_size=False)\n",
    "\n",
    "# draw vertical line diagramm\n",
    "im7 = rEYEker.draw_horizontal_line_diagram(image, data[0], should_copy=True)\n",
    "rEYEker.display(im7, normal_size=False)"
   ]
  },
  {
   "cell_type": "markdown",
   "metadata": {},
   "source": [
    "<h2>Needleman Wunsch Algorithm<h2>"
   ]
  },
  {
   "cell_type": "code",
   "execution_count": null,
   "metadata": {},
   "outputs": [],
   "source": [
    "# some rounding value\n",
    "rounding = 40\n",
    "\n",
    "# draw vertical NW Algorithm\n",
    "# use mulriple datasets instead of data[], data[0]\n",
    "(im8, result0) = rEYEker.draw_vertical_needleman_wunsch_line_diagram(\n",
    "    image, rounding, data[0], data[0], should_copy=True\n",
    ")\n",
    "rEYEker.display(im8, normal_size=False)\n",
    "\n",
    "# draw vertical NW Algorithm with semantic\n",
    "# use mulriple datasets instead of data[0], data[0]\n",
    "(im9, result1) = rEYEker.draw_vertical_needleman_wunsch_semantic_line_diagram(\n",
    "    image, data[0], data[0], classifier, should_copy=True\n",
    ")\n",
    "rEYEker.display(im9, normal_size=False)\n",
    "\n",
    "# draw horizontal NW Algorithm\n",
    "# use mulriple datasets instead of data[0], data[0]\n",
    "(im10, result2) = rEYEker.draw_horizontal_needleman_wunsch_line_diagram(\n",
    "    image, rounding, data[0], data[0], should_copy=True\n",
    ")\n",
    "rEYEker.display(im10, normal_size=False)\n",
    "\n",
    "## draw vertical combined NW Algorithm\n",
    "## use mulriple datasets instead of data[0], data[0]\n",
    "#(im11, result3) = rEYEker.draw_vertical_combined_needleman_wunsch_line_diagram(image, rounding, data, should_copy=True)\n",
    "#rEYEker.display(im11, normal_size=False)\n",
    "#\n",
    "## draw vertical semantic combined NW Algorithm\n",
    "## use mulriple datasets instead of data[], data[0]\n",
    "#(im12, result4) = rEYEker.draw_vertical_combined_needleman_wunsch_semantic_line_diagram(\n",
    "#    image, data, classifier, should_copy=True\n",
    "#)\n",
    "#rEYEker.display(im12, normal_size=False)\n",
    "#\n",
    "## draw horizontal combined NW Algorithm\n",
    "## use mulriple datasets instead of data[], data[0]\n",
    "#(im13, result5) = rEYEker.draw_horizontal_combined_needleman_wunsch_line_diagram(\n",
    "#    image, rounding, data, should_copy=True\n",
    "#)\n",
    "#rEYEker.display(im13, normal_size=False)"
   ]
  },
  {
   "cell_type": "markdown",
   "metadata": {},
   "source": [
    "<h2>Semanitc Classifier<h2>"
   ]
  },
  {
   "cell_type": "code",
   "execution_count": null,
   "metadata": {},
   "outputs": [],
   "source": [
    "# draw semantic classifier\n",
    "(im13) = rEYEker.draw_semantic_classifier(image, classifier, should_copy=True)\n",
    "\n",
    "# set semantic field\n",
    "classifier.set_semantic_fields(0, 100, \"S\")\n",
    "\n",
    "# get semantic fields as tuple\n",
    "fields = classifier.get_semantic_fields()\n",
    "\n",
    "# align buffer to middle of classifiers (noise cancel)\n",
    "noise_cancel = classifier.align_buffer_to_classifier(data[0])\n",
    "\n",
    "# get the sequence of classifiers the click follow\n",
    "sequence_of_classes = classifier.get_semantic_field_workflow(data[0])"
   ]
  },
  {
   "cell_type": "code",
   "execution_count": null,
   "metadata": {},
   "outputs": [],
   "source": []
  }
 ],
 "metadata": {
  "kernelspec": {
   "display_name": "Python 3",
   "language": "python",
   "name": "python3"
  },
  "language_info": {
   "codemirror_mode": {
    "name": "ipython",
    "version": 3
   },
   "file_extension": ".py",
   "mimetype": "text/x-python",
   "name": "python",
   "nbconvert_exporter": "python",
   "pygments_lexer": "ipython3",
   "version": "3.8.8"
  }
 },
 "nbformat": 4,
 "nbformat_minor": 4
}
