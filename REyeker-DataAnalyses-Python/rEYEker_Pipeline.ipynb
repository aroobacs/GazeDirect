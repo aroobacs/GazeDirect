{
 "cells": [
  {
   "cell_type": "markdown",
   "metadata": {},
   "source": [
    "<h1> Data Analysis for REYeker</h1>"
   ]
  },
  {
   "cell_type": "code",
   "execution_count": 1,
   "metadata": {},
   "outputs": [],
   "source": [
    "# lib for dataframes\n",
    "# lib for regex\n",
    "import re\n",
    "\n",
    "# lib for crerating paths\n",
    "from pathlib import Path\n",
    "\n",
    "# lib for plotting\n",
    "%matplotlib inline\n",
    "import matplotlib.pyplot as plt\n",
    "\n",
    "# REYeker lib\n",
    "import modules.rEYEkerAnalysis as rEYEker\n",
    "\n",
    "# lib for numerical computations\n",
    "import numpy as np\n",
    "import pandas as pd\n",
    "\n",
    "# lib for better plotting\n",
    "import seaborn as sns\n",
    "\n",
    "# lib for saving np images\n",
    "from PIL import Image\n",
    "\n",
    "# for t testing\n",
    "from scipy import stats\n",
    "\n",
    "sns.set_theme(\"paper\")\n",
    "\n",
    "# lib for differ calculation\n",
    "import difflib\n",
    "\n",
    "from chord import Chord"
   ]
  },
  {
   "cell_type": "markdown",
   "metadata": {},
   "source": [
    "<h2>1. Configuration</h2>"
   ]
  },
  {
   "cell_type": "markdown",
   "metadata": {},
   "source": [
    "<h5>Database configuration </h5>"
   ]
  },
  {
   "cell_type": "code",
   "execution_count": 2,
   "metadata": {},
   "outputs": [],
   "source": [
    "# path to the datafile\n",
    "config_datasheet_path = r\"./data/Book4.xlsx\"\n",
    "\n",
    "# columns with visual stimulus data\n",
    "config_visual_stimulus_variable_array = [\"TR20_01\", \"TI20_01\", \"BR20_01\", \"BI20_01\"]\n",
    "\n",
    "# columns with names of the algo\n",
    "config_algo_names = [\"TR_FIB\", \"TI_FIB\", \"BR_FIB\", \"BI_FIB\"]\n",
    "\n",
    "# columns with time data of visual stimulus\n",
    "config_time_variable_array = []\n",
    "\n",
    "# columns with the given answers of the studen\n",
    "config_answer_variable_array = [\"TR10_01\", \"TI10_01\", \"BR10_01\", \"BI10_01\"]\n",
    "\n",
    "# regex pattern for correct answer\n",
    "config_answer_pattern_array = [\"2\", \"2\", \"2\", \"2\"]\n",
    "\n",
    "# colums of response time\n",
    "config_response_time_variable_array = [\"TIME042\", \"TIME008\", \"TIME059\", \"TIME023\"]"
   ]
  },
  {
   "cell_type": "markdown",
   "metadata": {},
   "source": [
    "<h5>Configuration for REYEker data </h5>"
   ]
  },
  {
   "cell_type": "code",
   "execution_count": 3,
   "metadata": {},
   "outputs": [],
   "source": [
    "# file for loading rEYEker settings\n",
    "config_reyeker_settings_path = \"data/example.json\""
   ]
  },
  {
   "cell_type": "markdown",
   "metadata": {},
   "source": [
    "<h5>Configuration for saving images </h5>"
   ]
  },
  {
   "cell_type": "code",
   "execution_count": 4,
   "metadata": {},
   "outputs": [],
   "source": [
    "# data for loading the images\n",
    "config_image_path_array = [\n",
    "    \"images/TR/TR_Fibonacci.png\",\n",
    "    \"images/TI/TI_Fibonacci.png\",\n",
    "    \"images/BR/BR_Fibonacci.png\",\n",
    "    \"images/BI/BI_Fibonacci.png\",\n",
    "]\n",
    "\n",
    "# where to save to heatmaps and sequence diagrams\n",
    "config_folder_prefix_array = [\"TR/\", \"TI/\", \"BR/\", \"BI/\"]\n",
    "\n",
    "# used for saving the heatmaps and sequence diagrams\n",
    "config_image_prefix_array = [\"TR_Fibonacci_\", \"TI_Fibonacci_\", \"BR_Fibonacci_\", \"BI_Fibonacci_\"]"
   ]
  },
  {
   "cell_type": "markdown",
   "metadata": {},
   "source": [
    "<h5>Configuration for Code Flow data import</h5>"
   ]
  },
  {
   "cell_type": "code",
   "execution_count": 5,
   "metadata": {},
   "outputs": [],
   "source": [
    "# excel data in data/code_flow\n",
    "config_code_flow_datasheet_array = [\"TR_Fibonacci.xlsx\", \"TI_Fibonacci.xlsx\", \"BR_Fibonacci.xlsx\", \"BI_Fibonacci.xlsx\"]"
   ]
  },
  {
   "cell_type": "markdown",
   "metadata": {},
   "source": [
    "##### Configuration for aoi data import"
   ]
  },
  {
   "cell_type": "code",
   "execution_count": 6,
   "metadata": {},
   "outputs": [],
   "source": [
    "# excel data in data/aoi_categorized\n",
    "config_aoi_datasheet_array = [\n",
    "    \"AOI_TR_Fibonacci.xlsx\",\n",
    "    \"AOI_TI_Fibonacci.xlsx\",\n",
    "    \"AOI_BR_Fibonacci.xlsx\",\n",
    "    \"AOI_BI_Fibonacci.xlsx\",\n",
    "]"
   ]
  },
  {
   "cell_type": "markdown",
   "metadata": {},
   "source": [
    "<h5>Configuration for alpha value for t-test </h5>"
   ]
  },
  {
   "cell_type": "code",
   "execution_count": 7,
   "metadata": {},
   "outputs": [],
   "source": [
    "# confidence needed for t test\n",
    "config_alpha = 0.05"
   ]
  },
  {
   "cell_type": "markdown",
   "metadata": {},
   "source": [
    "<h5>Import the columns and create dataframe</h5>"
   ]
  },
  {
   "cell_type": "code",
   "execution_count": 8,
   "metadata": {},
   "outputs": [],
   "source": [
    "needed_columns_array = []\n",
    "\n",
    "# create all dataframe headers\n",
    "for i in range(len(config_visual_stimulus_variable_array)):\n",
    "    tmp_list = []\n",
    "    tmp_list.append(config_visual_stimulus_variable_array[i])\n",
    "\n",
    "    if len(config_time_variable_array) != 0:\n",
    "        tmp_list.append(config_time_variable_array[i])\n",
    "\n",
    "    tmp_list.append(config_answer_variable_array[i])\n",
    "    tmp_list.append(config_response_time_variable_array[i])\n",
    "    needed_columns_array.append(tmp_list)\n",
    "\n",
    "df_array = []\n",
    "raw = pd.read_excel(config_datasheet_path)\n",
    "\n",
    "# read all dataframes\n",
    "for data_set in needed_columns_array:\n",
    "    dataframe = pd.DataFrame(raw, columns=data_set)\n",
    "    dataframe = dataframe.iloc[1:]\n",
    "    dataframe = dataframe.dropna()\n",
    "    df_array.append(dataframe)"
   ]
  },
  {
   "cell_type": "markdown",
   "metadata": {},
   "source": [
    "<h4>Splitting Dataframes in right and wrong answers.</h4>"
   ]
  },
  {
   "cell_type": "code",
   "execution_count": 9,
   "metadata": {},
   "outputs": [],
   "source": [
    "df_array_right = []\n",
    "df_array_wrong = []\n",
    "\n",
    "# iter over every dataframe\n",
    "for idx, dataframe in enumerate(df_array):\n",
    "    right_answer_pattern = config_answer_pattern_array[idx]\n",
    "    regex = re.compile(right_answer_pattern)\n",
    "    answer_field = config_answer_variable_array[idx]\n",
    "\n",
    "    dataframe_right = pd.DataFrame(columns=needed_columns_array[idx])\n",
    "    dataframe_wrong = pd.DataFrame(columns=needed_columns_array[idx])\n",
    "\n",
    "    # iter over every row and check if the result is rightr\n",
    "    for _idx, row in dataframe.iterrows():\n",
    "        result = regex.match(str(row[answer_field]))\n",
    "        if result is not None:\n",
    "            dataframe_right = dataframe_right.append(row)\n",
    "        else:\n",
    "            dataframe_wrong = dataframe_wrong.append(row)\n",
    "\n",
    "    df_array_right.append(dataframe_right)\n",
    "    df_array_wrong.append(dataframe_wrong)"
   ]
  },
  {
   "cell_type": "markdown",
   "metadata": {},
   "source": [
    "<h4>Remove Outliers</h4>"
   ]
  },
  {
   "cell_type": "code",
   "execution_count": 10,
   "metadata": {},
   "outputs": [],
   "source": [
    "tmp_df_array = []\n",
    "tmp_df_array_wrong = []\n",
    "\n",
    "# iterate over all dataframes and remove outliers\n",
    "for idx, dataframe in enumerate(df_array_right):\n",
    "\n",
    "    data = dataframe[config_response_time_variable_array[idx]]\n",
    "    cleared_dataframe = None\n",
    "    if len(data) == 1:\n",
    "        cleared_dataframe = dataframe\n",
    "    else:\n",
    "        cleared_dataframe = dataframe[(np.abs(stats.zscore(data.astype(float))) < 3)]\n",
    "    tmp_df_array.append(cleared_dataframe)\n",
    "\n",
    "# iterate over all dataframes and remove outliers\n",
    "for idx, dataframe in enumerate(df_array_wrong):\n",
    "    data = dataframe[config_response_time_variable_array[idx]]\n",
    "    cleared_dataframe = dataframe[data.between(data.quantile(0.15), data.quantile(0.85))]\n",
    "    tmp_df_array_wrong.append(cleared_dataframe)\n",
    "\n",
    "df_array = tmp_df_array\n",
    "df_array_wong = tmp_df_array_wrong"
   ]
  },
  {
   "cell_type": "markdown",
   "metadata": {},
   "source": [
    "<h4>Import REYeker Settings</h4>"
   ]
  },
  {
   "cell_type": "code",
   "execution_count": 11,
   "metadata": {},
   "outputs": [],
   "source": [
    "(_data, _times, click_setting) = rEYEker.load_data_from_json(config_reyeker_settings_path)"
   ]
  },
  {
   "cell_type": "markdown",
   "metadata": {},
   "source": [
    "<h4>Import Images Settings</h4>"
   ]
  },
  {
   "cell_type": "code",
   "execution_count": 12,
   "metadata": {},
   "outputs": [],
   "source": [
    "image_array = []\n",
    "\n",
    "# read in every image\n",
    "for image_path in config_image_path_array:\n",
    "    img = rEYEker.load_image(image_path)\n",
    "    image_array.append(img)"
   ]
  },
  {
   "cell_type": "markdown",
   "metadata": {},
   "source": [
    "<h4> Cast Data to Valid format</h4>"
   ]
  },
  {
   "cell_type": "markdown",
   "metadata": {},
   "source": [
    "Import the visual stimulus measured Data"
   ]
  },
  {
   "cell_type": "code",
   "execution_count": 13,
   "metadata": {},
   "outputs": [],
   "source": [
    "visual_stimulus_data_matrix = []\n",
    "\n",
    "# iter over every dataframe\n",
    "for idx, dataframe in enumerate(df_array):\n",
    "    visual_stimulus_array = []\n",
    "    visual_stimulus_row = config_visual_stimulus_variable_array[idx]\n",
    "\n",
    "    # iter over every row\n",
    "    for _idx, item in dataframe.iterrows():\n",
    "        data_str = item[visual_stimulus_row]\n",
    "        data_str = data_str.strip()\n",
    "        coordinates_str = data_str.split(\" \")\n",
    "        coordinates = []\n",
    "\n",
    "        # iter over every coordinate pair x-y\n",
    "        for coordinate_str in coordinates_str:\n",
    "            coordinate = coordinate_str.split(\"-\")\n",
    "            coordinate = (int(coordinate[0]), int(coordinate[1]))\n",
    "            coordinates.append(coordinate)\n",
    "\n",
    "        visual_stimulus_array.append(coordinates)\n",
    "\n",
    "    visual_stimulus_data_matrix.append(visual_stimulus_array)"
   ]
  },
  {
   "cell_type": "markdown",
   "metadata": {},
   "source": [
    "Import the Time Data"
   ]
  },
  {
   "cell_type": "code",
   "execution_count": 14,
   "metadata": {},
   "outputs": [],
   "source": [
    "timestamps_data_matrix = []\n",
    "\n",
    "# iter over every dataframe\n",
    "for idx, dataframe in enumerate(df_array):\n",
    "    if len(config_time_variable_array) <= idx:\n",
    "        break\n",
    "    time_measurements = []\n",
    "    time_measurement_row = config_time_variable_array[idx]\n",
    "\n",
    "    # iter over every row\n",
    "    for _idx, item in dataframe.iterrows():\n",
    "        data_str = item[time_measurement_row]\n",
    "        data_str = data_str.strip()\n",
    "        timestamps = data_str.split(\" \")\n",
    "        timestamps = [int(timestamp) for timestamp in timestamps]\n",
    "        time_measurements.append(timestamps)\n",
    "\n",
    "    timestamps_data_matrix.append(time_measurements)"
   ]
  },
  {
   "cell_type": "markdown",
   "metadata": {},
   "source": [
    "<h4>Helper Functions</h4>"
   ]
  },
  {
   "cell_type": "code",
   "execution_count": 15,
   "metadata": {},
   "outputs": [],
   "source": [
    "def save_images(image_array, folder, image_name):\n",
    "    \"\"\"\n",
    "    :brief saves an array of images to a certain location incrementing the postfix by a number\n",
    "    :param image_array:        array of images (np.ndarray)\n",
    "    :param folder:     prefix of image/ folder location\n",
    "    :param image_name: prefix for the image\n",
    "    \"\"\"\n",
    "\n",
    "    Path(folder).mkdir(parents=True, exist_ok=True)\n",
    "\n",
    "    prefix = folder + image_name\n",
    "\n",
    "    # TODO create folders if there are none present\n",
    "    for idx, data in enumerate(image_array):\n",
    "        data = data * 255\n",
    "        data = np.uint8(data)\n",
    "        im = Image.fromarray(data)\n",
    "        im.save(prefix + str(idx) + \".png\")\n",
    "\n",
    "\n",
    "def compare_for_h0(arr_1, arr_2, alpha):\n",
    "    t, p = stats.ttest_ind(arr_1, arr_2)\n",
    "    if p > alpha:\n",
    "        return True, t, p\n",
    "    else:\n",
    "        return False, t, p\n",
    "\n",
    "\n",
    "def is_in(value, tup):\n",
    "    return tup[0] <= value <= tup[1]\n",
    "\n",
    "\n",
    "def get_0_offset(number):\n",
    "    i = 0\n",
    "    number = int(number)\n",
    "    while number != 0:\n",
    "        number = int(number / 10)\n",
    "        i = i + 1\n",
    "    return i"
   ]
  },
  {
   "cell_type": "markdown",
   "metadata": {},
   "source": [
    "<h2>2. Create Single Heatmaps</h2>"
   ]
  },
  {
   "cell_type": "markdown",
   "metadata": {},
   "source": [
    "create heatmaps"
   ]
  },
  {
   "cell_type": "code",
   "execution_count": 16,
   "metadata": {},
   "outputs": [],
   "source": [
    "heatmaps_matrix = []\n",
    "\n",
    "# iterate over all the datasets\n",
    "for dataset_idx, stimulus_dataset in enumerate(visual_stimulus_data_matrix):\n",
    "    time_stamp_array = None\n",
    "    if len(timestamps_data_matrix) > dataset_idx:\n",
    "        time_stamp_array = timestamps_data_matrix[dataset_idx]\n",
    "\n",
    "    heatmap_array = []\n",
    "\n",
    "    # iterate over all the measurements of the dataset\n",
    "    for visual_idx, stimulus_measurement in enumerate(stimulus_dataset):\n",
    "        times = None\n",
    "        if time_stamp_array is not None and len(time_stamp_array) > visual_idx:\n",
    "            times = time_stamp_array[visual_idx]\n",
    "\n",
    "        im = rEYEker.draw_shape_heat_map(\n",
    "            image_array[dataset_idx], stimulus_measurement, click_setting, time_stamps=times, should_copy=True\n",
    "        )\n",
    "        heatmap_array.append(im)\n",
    "\n",
    "    heatmaps_matrix.append(heatmap_array)"
   ]
  },
  {
   "cell_type": "markdown",
   "metadata": {},
   "source": [
    "save Heatmaps"
   ]
  },
  {
   "cell_type": "code",
   "execution_count": 17,
   "metadata": {},
   "outputs": [],
   "source": [
    "for idx, heatmap_array in enumerate(heatmaps_matrix):\n",
    "    save_images(\n",
    "        heatmap_array, \"./results/heatmaps/heatmaps/\" + config_folder_prefix_array[idx], config_image_prefix_array[idx]\n",
    "    )"
   ]
  },
  {
   "cell_type": "markdown",
   "metadata": {},
   "source": [
    "<h2>3. Create Average Heatmaps</h2>"
   ]
  },
  {
   "cell_type": "markdown",
   "metadata": {},
   "source": [
    "create heatmaps"
   ]
  },
  {
   "cell_type": "code",
   "execution_count": 18,
   "metadata": {},
   "outputs": [],
   "source": [
    "average_heatmap_array = []\n",
    "avergae_heatmask_array = []\n",
    "\n",
    "# iterate over all the datasets\n",
    "for idx, stimulus_dataset in enumerate(visual_stimulus_data_matrix):\n",
    "    image = image_array[idx]\n",
    "    visual_measurements = visual_stimulus_data_matrix[idx]\n",
    "    time_measurements = None\n",
    "    if len(timestamps_data_matrix) > idx:\n",
    "        time_measurements = timestamps_data_matrix[idx]\n",
    "    im, mask = rEYEker.draw_average_shape_heat_map_rel(\n",
    "        image, visual_measurements, click_setting, 1.0, 0.0, time_measurements, should_copy=True\n",
    "    )\n",
    "    average_heatmap_array.append(im)\n",
    "    avergae_heatmask_array.append(mask)"
   ]
  },
  {
   "cell_type": "markdown",
   "metadata": {},
   "source": [
    "save heatmaps"
   ]
  },
  {
   "cell_type": "code",
   "execution_count": 19,
   "metadata": {},
   "outputs": [],
   "source": [
    "for idx, heatmap in enumerate(average_heatmap_array):\n",
    "    save_images([heatmap], \"./results/heatmaps/average_heatmap/\", config_image_prefix_array[idx])"
   ]
  },
  {
   "cell_type": "markdown",
   "metadata": {},
   "source": [
    "<h2>4. Create Sequence diagramms</h2>"
   ]
  },
  {
   "cell_type": "markdown",
   "metadata": {},
   "source": [
    "create sequence diagrams"
   ]
  },
  {
   "cell_type": "code",
   "execution_count": 20,
   "metadata": {},
   "outputs": [
    {
     "name": "stdout",
     "output_type": "stream",
     "text": [
      "W.I.P.:to many clicks for dataset 3 datset 14\n"
     ]
    }
   ],
   "source": [
    "sequence_diagrams_matrix = []\n",
    "\n",
    "# iterate over all the datasets\n",
    "for dataset_idx, stimulus_dataset in enumerate(visual_stimulus_data_matrix):\n",
    "    # if time will be needed someday\n",
    "    # time_stamp_array = None\n",
    "    # if len(timestamps_data_matrix) > dataset_idx:\n",
    "    #    time_stamp_array = timestamps_data_matrix[dataset_idx]\n",
    "\n",
    "    sequence_diagram_array = []\n",
    "\n",
    "    # iterate over all the measurements of the dataset\n",
    "    for visual_idx, stimulus_measurement in enumerate(stimulus_dataset):\n",
    "        # if time will be needed someday\n",
    "        # times = None\n",
    "        # if time_stamp_array is not None and len(time_stamp_array) > visual_idx:\n",
    "        #    times = time_stamp_array[visual_idx]\n",
    "        try:\n",
    "            im = rEYEker.draw_vertical_line_diagram(image_array[dataset_idx], stimulus_measurement, should_copy=True)\n",
    "            sequence_diagram_array.append(im)\n",
    "        except:\n",
    "            # TODO\n",
    "            print(\"W.I.P.:\", end=\"\")\n",
    "            print(\"to many clicks for dataset \" + str(dataset_idx) + \" datset \" + str(visual_idx))\n",
    "    sequence_diagrams_matrix.append(sequence_diagram_array)"
   ]
  },
  {
   "cell_type": "markdown",
   "metadata": {},
   "source": [
    "save sequence diagrams"
   ]
  },
  {
   "cell_type": "code",
   "execution_count": 21,
   "metadata": {},
   "outputs": [],
   "source": [
    "for idx, sequence_diagram_array in enumerate(sequence_diagrams_matrix):\n",
    "    save_images(\n",
    "        sequence_diagram_array,\n",
    "        \"./results/sequence_diagrams/\" + config_folder_prefix_array[idx],\n",
    "        config_image_prefix_array[idx],\n",
    "    )"
   ]
  },
  {
   "cell_type": "markdown",
   "metadata": {},
   "source": [
    "<h2>7. Analyse average of Data</h2>"
   ]
  },
  {
   "cell_type": "markdown",
   "metadata": {},
   "source": [
    "<h3>7.1 Helper Functions</h3>"
   ]
  },
  {
   "cell_type": "code",
   "execution_count": 22,
   "metadata": {},
   "outputs": [],
   "source": [
    "def save_displots(folder, indexing_array, df_array):\n",
    "    \"\"\"\n",
    "    folder:         prefix where to save\n",
    "    indexing_array: how to index into the dataframe\n",
    "    df_array:     array of dataframes to plot\n",
    "    \"\"\"\n",
    "    Path(folder).mkdir(parents=True, exist_ok=True)\n",
    "\n",
    "    for idx, dataframe in enumerate(df_array):\n",
    "        values = dataframe[indexing_array[idx]].values.astype(float)\n",
    "        sns_plot = sns.displot(data=values, kde=True)\n",
    "        sns_plot.savefig(folder + config_image_prefix_array[idx] + \".png\")\n",
    "        plt.close()\n",
    "\n",
    "\n",
    "def save_combined_displot(folder, x_axis, dataframe):\n",
    "    \"\"\"\n",
    "    folder:         prefix where to save\n",
    "    x_axis:         value to use for x_axis\n",
    "    dataframe:      dataframe with \"Algorithm\" field\n",
    "    \"\"\"\n",
    "    Path(folder).mkdir(parents=True, exist_ok=True)\n",
    "\n",
    "    sns_plot = sns.displot(data=dataframe, x=x_axis, hue=\"Algorithm\", kind=\"kde\")\n",
    "    sns_plot.savefig(folder + \"Combined_Displot.png\")\n",
    "    plt.close()"
   ]
  },
  {
   "cell_type": "code",
   "execution_count": 23,
   "metadata": {},
   "outputs": [],
   "source": [
    "def save_barplot(folder, y_axis, df_array):\n",
    "    \"\"\"\n",
    "    folder:         prefix where to save\n",
    "    y_axis:         value to use for y_axis\n",
    "    df_array:     array of dataframes to plot\n",
    "    \"\"\"\n",
    "    Path(folder).mkdir(parents=True, exist_ok=True)\n",
    "\n",
    "    sns_plot = sns.barplot(y=y_axis, x=\"Algorithm\", data=df_array, hue=\"Algorithm\", estimator=np.median)\n",
    "    sns_plot.legend_.remove()\n",
    "    sns_plot.figure.savefig(folder + \"Combined_Barplot.png\")\n",
    "    plt.close()"
   ]
  },
  {
   "cell_type": "code",
   "execution_count": 24,
   "metadata": {},
   "outputs": [],
   "source": [
    "def save_boxplot(folder, y_axis, df_array):\n",
    "    \"\"\"\n",
    "    folder:         prefix where to save\n",
    "    y_axis:         value to use for y_axis\n",
    "    df_array:     array of dataframes to plot\n",
    "    \"\"\"\n",
    "    Path(folder).mkdir(parents=True, exist_ok=True)\n",
    "\n",
    "    sns_plot = sns.boxplot(y=y_axis, x=\"Algorithm\", data=df_array, hue=\"Algorithm\")\n",
    "    sns_plot.legend_.remove()\n",
    "    sns_plot.figure.savefig(folder + \"Combined_Boxplot.png\")\n",
    "    plt.close()"
   ]
  },
  {
   "cell_type": "code",
   "execution_count": 25,
   "metadata": {},
   "outputs": [],
   "source": [
    "def save_violinplot(folder, y_axis, df_array):\n",
    "    \"\"\"\n",
    "    folder:         prefix where to save\n",
    "    y_axis:         value to use for y_axis\n",
    "    df_array:     array of dataframes to plot\n",
    "    \"\"\"\n",
    "    Path(folder).mkdir(parents=True, exist_ok=True)\n",
    "\n",
    "    sns_plot = sns.violinplot(y=y_axis, x=\"Algorithm\", data=df_array, hue=\"Algorithm\")\n",
    "    sns_plot.legend_.remove()\n",
    "    sns_plot.figure.savefig(folder + \"Combined_Violinplot.png\")\n",
    "    plt.close()"
   ]
  },
  {
   "cell_type": "code",
   "execution_count": 26,
   "metadata": {},
   "outputs": [],
   "source": [
    "def save_implots(folder, x_df, x_axis, y_df, y_axis):\n",
    "    Path(folder).mkdir(parents=True, exist_ok=True)\n",
    "\n",
    "    tmp_list = []\n",
    "    for idx in range(len(x_df)):\n",
    "        x_val = x_df[x_axis][idx]\n",
    "        y_val = y_df[y_axis][idx]\n",
    "        algorithm = x_df[\"Algorithm\"][idx]\n",
    "        tmp_list.append([x_val, y_val, algorithm])\n",
    "\n",
    "    df_tmp = pd.DataFrame(tmp_list, columns=[x_axis, y_axis, \"Algorithm\"])\n",
    "    for idx in range(len(config_algo_names)):\n",
    "        tmp_df = df_tmp[df_tmp[\"Algorithm\"] == config_algo_names[idx]]\n",
    "        sns_plot = sns.lmplot(data=tmp_df, x=x_axis, y=y_axis)\n",
    "        sns_plot.set(ylim=(0, None))\n",
    "        sns_plot.savefig(folder + config_algo_names[idx] + str(idx) + \".png\")\n",
    "        plt.close()\n",
    "\n",
    "\n",
    "def save_combined_implot(folder, x_df, x_axis, y_df, y_axis):\n",
    "    Path(folder).mkdir(parents=True, exist_ok=True)\n",
    "\n",
    "    tmp_list = []\n",
    "    for idx in range(len(x_df)):\n",
    "        x_val = x_df[x_axis][idx]\n",
    "        y_val = y_df[y_axis][idx]\n",
    "        algorithm = x_df[\"Algorithm\"][idx]\n",
    "        tmp_list.append([x_val, y_val, algorithm])\n",
    "\n",
    "    df_tmp = pd.DataFrame(tmp_list, columns=[x_axis, y_axis, \"Algorithm\"])\n",
    "    sns_plot = sns.lmplot(data=df_tmp, x=x_axis, y=y_axis, hue=\"Algorithm\")\n",
    "    sns_plot.set(ylim=(0, None))\n",
    "    sns_plot.savefig(folder + \"Combined_Implot.png\")\n",
    "    plt.close()"
   ]
  },
  {
   "cell_type": "markdown",
   "metadata": {},
   "source": [
    "<h3>7.2 Response Time</h3>"
   ]
  },
  {
   "cell_type": "markdown",
   "metadata": {},
   "source": [
    "Create new Dataframe which holds all the response time data"
   ]
  },
  {
   "cell_type": "code",
   "execution_count": 27,
   "metadata": {},
   "outputs": [],
   "source": [
    "columns = [\"Response Time\", \"Algorithm\"]\n",
    "data = []\n",
    "for idx, dataframe in enumerate(df_array):\n",
    "    for _idx, row in dataframe.iterrows():\n",
    "        data.append([row[config_response_time_variable_array[idx]], config_algo_names[idx]])\n",
    "algo_df = pd.DataFrame(data, columns=columns)"
   ]
  },
  {
   "cell_type": "markdown",
   "metadata": {},
   "source": [
    "Create and Save Displots"
   ]
  },
  {
   "cell_type": "code",
   "execution_count": 28,
   "metadata": {},
   "outputs": [],
   "source": [
    "save_displots(\"./results/responseTime/displots/\", config_response_time_variable_array, df_array)\n",
    "\n",
    "save_combined_displot(\"./results/responseTime/displots/\", \"Response Time\", algo_df)"
   ]
  },
  {
   "cell_type": "markdown",
   "metadata": {},
   "source": [
    "Create and save barplots"
   ]
  },
  {
   "cell_type": "code",
   "execution_count": 29,
   "metadata": {},
   "outputs": [],
   "source": [
    "save_barplot(\"./results/responseTime/barplot/\", \"Response Time\", algo_df)"
   ]
  },
  {
   "cell_type": "markdown",
   "metadata": {},
   "source": [
    "Create and save boxplot"
   ]
  },
  {
   "cell_type": "code",
   "execution_count": 30,
   "metadata": {},
   "outputs": [],
   "source": [
    "save_boxplot(\"./results/responseTime/boxplot/\", \"Response Time\", algo_df)"
   ]
  },
  {
   "cell_type": "markdown",
   "metadata": {},
   "source": [
    "Create and save violinplot"
   ]
  },
  {
   "cell_type": "code",
   "execution_count": 31,
   "metadata": {},
   "outputs": [],
   "source": [
    "save_violinplot(\"./results/responseTime/violinplot/\", \"Response Time\", algo_df)"
   ]
  },
  {
   "cell_type": "markdown",
   "metadata": {},
   "source": [
    "<h3>7.5. Statistical Values</h3>"
   ]
  },
  {
   "cell_type": "markdown",
   "metadata": {},
   "source": [
    "Create Excel sheet with data containing speedup and significance corresponding to response time"
   ]
  },
  {
   "cell_type": "code",
   "execution_count": 33,
   "metadata": {},
   "outputs": [],
   "source": [
    "def create_statical_data(df_array, indexing_array, folder, name):\n",
    "    def highlight_signficant(s):\n",
    "        if s.name != \"#\":\n",
    "            is_sig = df_significance[s.name]\n",
    "            return [\"background-color: green\" if v else \"\" for v in is_sig]\n",
    "        else:\n",
    "            return [\"\" for v in s]\n",
    "\n",
    "    mean_array = []\n",
    "    is_significant = []\n",
    "    t_value_response_time = []\n",
    "    p_value_response_time = []\n",
    "    ratio = []\n",
    "\n",
    "    for idx1, df1 in enumerate(df_array):\n",
    "        different_tmp = [config_algo_names[idx1]]\n",
    "        t_tmp = [config_algo_names[idx1]]\n",
    "        p_tmp = [config_algo_names[idx1]]\n",
    "        ratio_tmp = [config_algo_names[idx1]]\n",
    "\n",
    "        for idx2, df2 in enumerate(df_array):\n",
    "            (different, t, p) = compare_for_h0(\n",
    "                df1[indexing_array[idx1]].values, df2[indexing_array[idx2]], config_alpha\n",
    "            )\n",
    "            different_tmp.append(not different)\n",
    "            t_tmp.append(t)\n",
    "            p_tmp.append(p)\n",
    "            ratio_tmp.append(df1[indexing_array[idx1]].mean() / df2[indexing_array[idx2]].mean())\n",
    "\n",
    "        is_significant.append(different_tmp)\n",
    "        t_value_response_time.append(t_tmp)\n",
    "        p_value_response_time.append(p_tmp)\n",
    "        ratio.append(ratio_tmp)\n",
    "        mean_array.append(df1[indexing_array[idx1]].mean())\n",
    "\n",
    "    df_significance = pd.DataFrame(is_significant, columns=[\"#\"] + config_algo_names)\n",
    "\n",
    "    df_t = pd.DataFrame(t_value_response_time, columns=[\"#\"] + config_algo_names)\n",
    "    df_p = pd.DataFrame(p_value_response_time, columns=[\"#\"] + config_algo_names)\n",
    "    df_ratio = pd.DataFrame(ratio, columns=[\"#\"] + config_algo_names)\n",
    "    df_ratio = df_ratio.style.apply(highlight_signficant)\n",
    "    df_mean = pd.DataFrame([mean_array], columns=config_algo_names)\n",
    "\n",
    "    Path(folder).mkdir(parents=True, exist_ok=True)\n",
    "\n",
    "    writer = pd.ExcelWriter(folder + name + \".xlsx\", engine=\"xlsxwriter\")\n",
    "\n",
    "    df_ratio.to_excel(writer, sheet_name=\"ratio col row\", index=False)\n",
    "    df_mean.to_excel(writer, sheet_name=\"mean value\", index=False)\n",
    "    df_significance.to_excel(writer, sheet_name=\"statistical difference\", index=False)\n",
    "    df_p.to_excel(writer, sheet_name=\"p values\", index=False)\n",
    "    df_t.to_excel(writer, sheet_name=\"t values\", index=False)\n",
    "\n",
    "    writer.save()"
   ]
  },
  {
   "cell_type": "code",
   "execution_count": 34,
   "metadata": {},
   "outputs": [],
   "source": [
    "len_of_visual = []\n",
    "for dataset_row in visual_stimulus_data_matrix:\n",
    "    tmp_len = []\n",
    "    for dataset in dataset_row:\n",
    "        tmp_len.append(len(dataset))\n",
    "    len_of_visual.append(tmp_len)\n",
    "\n",
    "len_df_array = []\n",
    "for len_array in len_of_visual:\n",
    "    df = pd.DataFrame(len_array, columns=[\"len\"])\n",
    "    len_df_array.append(df)"
   ]
  },
  {
   "cell_type": "markdown",
   "metadata": {},
   "source": [
    "<h2>8. Areas of Interest </h2>"
   ]
  },
  {
   "cell_type": "markdown",
   "metadata": {},
   "source": [
    "<h3>8.1. Helper</h3>"
   ]
  },
  {
   "cell_type": "code",
   "execution_count": 36,
   "metadata": {},
   "outputs": [],
   "source": [
    "from matplotlib.patches import Rectangle\n",
    "\n",
    "\n",
    "def save_aoi_sequences(folder, image, image_prefix, aoi_mask, aoi_names, visual_measurement_array):\n",
    "\n",
    "    Path(folder).mkdir(parents=True, exist_ok=True)\n",
    "\n",
    "    color = []\n",
    "\n",
    "    for idx, visual_measurement in enumerate(visual_measurement_array):\n",
    "        im = image.copy()\n",
    "\n",
    "        x = [x for (x, y) in visual_measurement]\n",
    "        y = [y for (x, y) in visual_measurement]\n",
    "\n",
    "        cats = [int(aoi_mask[y, x]) for (x, y) in visual_measurement]\n",
    "        classes = [aoi_names[idx] for idx in cats]\n",
    "\n",
    "        val = [idx for idx in aoi_names]\n",
    "        for value in classes:\n",
    "            val.append(value)\n",
    "\n",
    "        classes = val\n",
    "\n",
    "        df_classes = pd.DataFrame(classes, columns=[\"aois\"])\n",
    "        incremental_step = float(df_classes[\"aois\"].value_counts().max() - 1) / float(max(len(cats) - 1, 1))\n",
    "\n",
    "        y_val = [1 + i * incremental_step for i in range(len(cats))]\n",
    "        x_val = cats\n",
    "\n",
    "        fig, ax1 = plt.subplots(figsize=(6, 6))\n",
    "\n",
    "        sns.countplot(x=\"aois\", data=df_classes, ax=ax1)\n",
    "        ax1.plot(x_val, y_val, \"-o\", linewidth=2, color=\"black\")\n",
    "        ax1.set_xticklabels(ax1.get_xticklabels(), rotation=35, horizontalalignment=\"right\")\n",
    "\n",
    "        ax1.figure.savefig(folder + image_prefix + \"aoi_sequence_\" + str(idx) + \".png\")\n",
    "        ax_color = ax1\n",
    "\n",
    "        bars = [r for r in ax_color.get_children() if type(r) == Rectangle]\n",
    "        colors = [c.get_facecolor() for c in bars[:-1]]\n",
    "        colors = [[r, g, b] for (r, g, b, a) in colors]\n",
    "        color = np.array(colors).astype(np.float32)\n",
    "        plt.close()\n",
    "\n",
    "    return color\n",
    "\n",
    "\n",
    "def apply_aoi_mask(image, colors, aoi_mask):\n",
    "    im = image.copy()\n",
    "    for height in range(im.shape[0]):\n",
    "        for width in range(im.shape[1]):\n",
    "            im[height, width] = 0.4 * im[height, width] + 0.6 * colors[aoi_mask[height, width]]\n",
    "    return im"
   ]
  },
  {
   "cell_type": "markdown",
   "metadata": {},
   "source": [
    "<h3>8.1. Areas of Interest supervised </h3>"
   ]
  },
  {
   "cell_type": "code",
   "execution_count": 37,
   "metadata": {},
   "outputs": [],
   "source": [
    "import modules.HeatmapHelpers as heathelpers\n",
    "\n",
    "aoi_df_array = []\n",
    "columns = [\"startHeight\", \"stopHeight\", \"startWidth\", \"stopWidth\", \"Name\"]\n",
    "\n",
    "for aoi_sheet in config_aoi_datasheet_array:\n",
    "    raw = pd.read_excel(\"./data/aoi_categorized/\" + aoi_sheet)\n",
    "    df = pd.DataFrame(raw, columns=columns)\n",
    "    aoi_df_array.append(df)\n",
    "\n",
    "aoi_mask_array = []\n",
    "aoi_region_name_matrix = []\n",
    "\n",
    "for idx in range(len(aoi_df_array)):\n",
    "    image_shape = image_array[idx].shape[0], image_array[idx].shape[1]\n",
    "    aoi_mask = np.zeros(image_shape)\n",
    "    aoi_names = []\n",
    "    for inner_idx, row in aoi_df_array[idx].iterrows():\n",
    "        start_height = row[\"startHeight\"]\n",
    "        stop_height = row[\"stopHeight\"]\n",
    "        start_width = row[\"startWidth\"]\n",
    "        stop_width = row[\"stopWidth\"]\n",
    "        name = row[\"Name\"]\n",
    "        aoi_names.append(name)\n",
    "        aoi_names = list(dict.fromkeys(aoi_names))\n",
    "        aoi_mask[start_height:stop_height, start_width:stop_width] = aoi_names.index(name)\n",
    "\n",
    "    aoi_mask_array.append(aoi_mask.astype(int))\n",
    "    aoi_region_name_matrix.append(aoi_names)\n",
    "\n",
    "visual_stimulus_data_matrix[idx]\n",
    "used_color_matrix = []\n",
    "for idx in range(len(aoi_df_array)):\n",
    "    colors = save_aoi_sequences(\n",
    "        \"./results/aois/supervised/\" + config_folder_prefix_array[idx],\n",
    "        image_array[idx],\n",
    "        config_image_prefix_array[idx],\n",
    "        aoi_mask_array[idx],\n",
    "        aoi_region_name_matrix[idx],\n",
    "        visual_stimulus_data_matrix[idx],\n",
    "    )\n",
    "    used_color_matrix.append(colors)"
   ]
  },
  {
   "cell_type": "code",
   "execution_count": 38,
   "metadata": {},
   "outputs": [],
   "source": [
    "aoi_visual_stimulus_matrix = []\n",
    "\n",
    "for idx, visual_stimulus_array in enumerate(visual_stimulus_data_matrix):\n",
    "    aoi_visual_stimulus_array = []\n",
    "\n",
    "    for idx1, visual_stimulus in enumerate(visual_stimulus_array):\n",
    "\n",
    "        aoi_field_array = [aoi_mask_array[idx][y, x] for (x, y) in visual_stimulus]\n",
    "        aoi_visual_stimulus_array.append(aoi_field_array)\n",
    "\n",
    "    aoi_visual_stimulus_matrix.append(aoi_visual_stimulus_array)\n",
    "\n",
    "aoi_transition_tensor = []\n",
    "\n",
    "for idx, aoi_visual_stimulus_array in enumerate(aoi_visual_stimulus_matrix):\n",
    "    aoi_transition_matrix = np.zeros((len(aoi_region_name_matrix[idx]), len(aoi_region_name_matrix[idx])))\n",
    "\n",
    "    for aoi_visul_stimulus in aoi_visual_stimulus_array:\n",
    "        for idx1 in range(len(aoi_visul_stimulus) - 1):\n",
    "            aoi_transition_matrix[aoi_visul_stimulus[idx1], aoi_visul_stimulus[idx1 + 1]] += 1\n",
    "\n",
    "    aoi_transition_tensor.append(aoi_transition_matrix)"
   ]
  },
  {
   "cell_type": "code",
   "execution_count": null,
   "metadata": {},
   "outputs": [],
   "source": [
    "Chord(aoi_transition_tensor[1].astype(int).tolist(), aoi_region_name_matrix[1]).show()"
   ]
  },
  {
   "cell_type": "code",
   "execution_count": null,
   "metadata": {},
   "outputs": [],
   "source": [
    "return\n",
    "# next cells are experimental"
   ]
  },
  {
   "cell_type": "markdown",
   "metadata": {
    "tags": []
   },
   "source": [
    "<h3>8.2. Areas of Interest unsupervised</h3>"
   ]
  },
  {
   "cell_type": "markdown",
   "metadata": {},
   "source": [
    "How to analyze areas of interests?\n",
    "\n",
    "1. [x] find max heat values or values above a treshhold\n",
    "    1. [x] split to large areas by a certain treshhold\n",
    "    2. [x] maybe create a bounding box of them and analyze them by prio for better computation time\n",
    "        1. [x] fix aois to lines, mybe to columns if the works seems useful for an algorithm\n",
    "\n",
    "2. [x] analyse how to jump between different regions of interests\n",
    "    1. [x] categorize just hot areas as aois\n",
    "    2. [x] categorize everything as aois\n",
    "    %% 3. [ ] list how the code flow jumps between theese regions\n",
    "\n",
    "3. [ ] analyse all the data for a mean and statical signifance\n",
    "    1. [ ] maybe implement gernerialized string mean algorithm for medium jumps (NP complte)\n",
    "    2. [ ] maybe use the same as in the code flow [#todo also implement genrerilized string mean for code flow]"
   ]
  },
  {
   "cell_type": "code",
   "execution_count": null,
   "metadata": {},
   "outputs": [],
   "source": [
    "import modules.HeatmapHelpers as heathelpers\n",
    "\n",
    "treshhold = 0.25\n",
    "chunk_width = 12\n",
    "value = 1.0 / treshhold\n",
    "upper_limit = 0.2\n",
    "\n",
    "shape = average_heatmap_array[0].shape[0], average_heatmap_array[0].shape[1]\n",
    "\n",
    "data = np.array(avergae_heatmask_array[0])\n",
    "data = np.reshape(data, shape)\n",
    "data = np.rint(data * value) / value\n",
    "data[data < upper_limit] = 0.0\n",
    "\n",
    "tmp = data.flatten().tolist()\n",
    "im = image_array[0].copy()\n",
    "heathelpers.draw_heat(im, tmp)\n",
    "\n",
    "imgplot0 = plt.imshow(im)"
   ]
  },
  {
   "cell_type": "code",
   "execution_count": null,
   "metadata": {},
   "outputs": [],
   "source": [
    "shape = average_heatmap_array[0].shape[0], average_heatmap_array[0].shape[1]\n",
    "horizontal_data = np.zeros(shape)\n",
    "\n",
    "for height_idx in range(shape[0]):\n",
    "    for val in range(0, shape[1], chunk_width):\n",
    "        max_val = data[height_idx, val : (val + chunk_width)].max()\n",
    "        horizontal_data[height_idx, val : (val + chunk_width)] = max_val\n",
    "\n",
    "heat_mask = horizontal_data.flatten().tolist()\n",
    "img = image_array[0].copy()\n",
    "heathelpers.draw_heat(img, heat_mask)\n",
    "\n",
    "imgplot0 = plt.imshow(img)"
   ]
  },
  {
   "cell_type": "code",
   "execution_count": null,
   "metadata": {},
   "outputs": [],
   "source": [
    "shape = average_heatmap_array[0].shape[0], average_heatmap_array[0].shape[1]\n",
    "line_data = np.zeros(shape)\n",
    "\n",
    "for _idx, row in config_array[0].iterrows():\n",
    "    low = row[\"start\"]\n",
    "    high = row[\"stop\"] + 1\n",
    "    for val in range(0, shape[1], chunk_width):\n",
    "        max_val = data[low:high, val : (val + chunk_width)].max()\n",
    "        line_data[low:high, val : (val + chunk_width)] = max_val\n",
    "\n",
    "heat_mask = line_data.flatten().tolist()\n",
    "im = image_array[0].copy()\n",
    "heathelpers.draw_heat(im, heat_mask)\n",
    "\n",
    "imgplot0 = plt.imshow(im)"
   ]
  },
  {
   "cell_type": "code",
   "execution_count": null,
   "metadata": {},
   "outputs": [],
   "source": [
    "x = [x for (x, y) in visual_stimulus_data_matrix[0][0]]\n",
    "y = [y for (x, y) in visual_stimulus_data_matrix[0][0]]\n",
    "\n",
    "fig, ax = plt.subplots(figsize=(6, 6))\n",
    "ax.imshow(im)\n",
    "ax.plot(x, y, \":o\", linewidth=1, color=\"black\");"
   ]
  },
  {
   "cell_type": "code",
   "execution_count": null,
   "metadata": {},
   "outputs": [],
   "source": [
    "from IPython.display import HTML\n",
    "from matplotlib import animation\n",
    "\n",
    "fig, ax = plt.subplots(figsize=(8, 8))\n",
    "ax.set_ylim((0, 416))\n",
    "ax.set_xlim((0, 870))\n",
    "ax.invert_yaxis()\n",
    "\n",
    "ax.imshow(image_array[0])\n",
    "(line,) = ax.plot([], [], \"k-x\", lw=2)\n",
    "\n",
    "\n",
    "def init():\n",
    "    line.set_data([], [])\n",
    "    return (line,)\n",
    "\n",
    "\n",
    "x_glob = np.array([x for (x, y) in visual_stimulus_data_matrix[0][0]])\n",
    "y_glob = np.array([y for (x, y) in visual_stimulus_data_matrix[0][0]])\n",
    "\n",
    "len_value = len(x_glob)\n",
    "\n",
    "\n",
    "def animate(i):\n",
    "    low = max(0, i - 16)\n",
    "    x = x_glob[low:i]\n",
    "    y = y_glob[low:i]\n",
    "\n",
    "    image = rEYEker.draw_shape_heat_map(\n",
    "        image_array[0], visual_stimulus_data_matrix[0][0], click_setting, min_idx=low, max_idx=i, should_copy=True\n",
    "    )\n",
    "    ax.imshow(image)\n",
    "\n",
    "    # line.set_data(x,y)\n",
    "    return (line,)\n",
    "\n",
    "\n",
    "anim = animation.FuncAnimation(fig, animate, init_func=init, frames=len_value, interval=100, blit=True)\n",
    "plt.close()"
   ]
  },
  {
   "cell_type": "code",
   "execution_count": null,
   "metadata": {},
   "outputs": [],
   "source": [
    "HTML(anim.to_html5_video())"
   ]
  },
  {
   "cell_type": "code",
   "execution_count": null,
   "metadata": {},
   "outputs": [],
   "source": [
    "from queue import Queue\n",
    "\n",
    "shape = (image_array[0].shape[0], image_array[0].shape[1])\n",
    "categorize_matrix = np.full(shape, -1)\n",
    "\n",
    "\n",
    "def get_adjacent(x, y, shape):\n",
    "    result = []\n",
    "    if x - 1 >= 0:\n",
    "        result.append((x - 1, y))\n",
    "    if x + 1 < shape[0]:\n",
    "        result.append((x + 1, y))\n",
    "    if y - 1 >= 0:\n",
    "        result.append((x, y - 1))\n",
    "    if y + 1 < shape[1]:\n",
    "        result.append((x, y + 1))\n",
    "    return result\n",
    "\n",
    "\n",
    "def bfs_fill(start_x, start_y, cat_matrix, heat_mask, cat_value):\n",
    "    q = Queue()\n",
    "    value = heat_mask[start_x][start_y]\n",
    "    cat_matrix[start_x][start_y] = cat_value\n",
    "    q.put((start_x, start_y))\n",
    "\n",
    "    while not q.empty():\n",
    "        (x, y) = q.get()\n",
    "        adjacent_array = get_adjacent(x, y, cat_matrix.shape)\n",
    "        for (ad_x, ad_y) in adjacent_array:\n",
    "            if cat_matrix[ad_x][ad_y] == -1 and heat_mask[ad_x][ad_y] == value:\n",
    "                cat_matrix[ad_x][ad_y] = cat_value\n",
    "                q.put((ad_x, ad_y))\n",
    "\n",
    "\n",
    "cat_value = 0\n",
    "for x in range(shape[0]):\n",
    "    for y in range(shape[1]):\n",
    "        if categorize_matrix[x][y] == -1:\n",
    "            bfs_fill(x, y, categorize_matrix, line_data, cat_value)\n",
    "            cat_value += 1\n",
    "\n",
    "aoi_mask = categorize_matrix.astype(int)\n",
    "aoi_names = [str(idx) for idx in range(cat_value)]\n",
    "\n",
    "colors = save_aoi_sequences(\n",
    "    \"./results/aois/unsupervised/\" + config_folder_prefix_array[0],\n",
    "    image_array[0],\n",
    "    config_image_prefix_array[0],\n",
    "    aoi_mask,\n",
    "    aoi_names,\n",
    "    visual_stimulus_data_matrix[0],\n",
    ")"
   ]
  },
  {
   "cell_type": "code",
   "execution_count": null,
   "metadata": {},
   "outputs": [],
   "source": [
    "fig, ax = plt.subplots(figsize=(8, 8))\n",
    "\n",
    "im = image_array[0].copy()\n",
    "\n",
    "for height in range(im.shape[0]):\n",
    "    for width in range(im.shape[1]):\n",
    "        im[height, width] = 0.4 * im[height, width] + 0.6 * colors[categorize_matrix[height, width]]\n",
    "\n",
    "ax.imshow(im)\n",
    "ax.plot(x, y, \":\", linewidth=2, color=\"black\");"
   ]
  },
  {
   "cell_type": "code",
   "execution_count": null,
   "metadata": {},
   "outputs": [],
   "source": []
  }
 ],
 "metadata": {
  "kernelspec": {
   "display_name": "Python 3",
   "language": "python",
   "name": "python3"
  },
  "language_info": {
   "codemirror_mode": {
    "name": "ipython",
    "version": 3
   },
   "file_extension": ".py",
   "mimetype": "text/x-python",
   "name": "python",
   "nbconvert_exporter": "python",
   "pygments_lexer": "ipython3",
   "version": "3.8.8"
  }
 },
 "nbformat": 4,
 "nbformat_minor": 4
}
