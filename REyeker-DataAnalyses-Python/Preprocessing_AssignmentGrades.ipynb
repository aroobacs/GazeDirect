{
 "cells": [
  {
   "cell_type": "code",
   "execution_count": 1,
   "metadata": {},
   "outputs": [],
   "source": [
    "import pandas as pd\n",
    "\n",
    "import numpy as np\n",
    "\n",
    "import re"
   ]
  },
  {
   "cell_type": "code",
   "execution_count": 2,
   "metadata": {},
   "outputs": [],
   "source": [
    "config_prefix = ['BR', 'BI', 'TR', 'TI']\n",
    "\n",
    "config_algo_names = ['BinarySearch', 'BubbleSort', 'Factorial', 'Fibonacci', 'IntegerBinary', 'MultiplyMatrix', 'PrimeFactors', 'ReverseString']\n",
    "\n",
    "config_id_variable = \"CASE\"\n",
    "config_uid_variable = \"ST17_01\"\n",
    "\n",
    "config_answer_variables = [\n",
    "    ['TR21_01', 'BR21_01', 'TI21_01', 'BI21_01'],\n",
    "    ['TR22_01', 'BR22_01', 'TI22_01', 'BI22_01'],\n",
    "    ['TR23_01', 'BR23_01', 'TI23_01', 'BI23_01'],\n",
    "    ['TR24_01', 'BR24_01', 'TI24_01', 'BI24_01'],\n",
    "    ['TR25_01', 'BR25_01', 'TI25_01', 'BI25_01'],\n",
    "    ['TR26_01', 'BR26_01', 'TI26_01', 'BI26_01'],\n",
    "    ['TR27_01', 'BR27_01', 'TI27_01', 'BI27_01'],\n",
    "    ['TR28_01', 'BR28_01', 'TI28_01', 'BI28_01'],\n",
    "]\n",
    "\n",
    "config_answer_patterns = [\n",
    "    ['.*3.*', '.*3.*', '.*3.*', '.*3.*'],\n",
    "    ['.*3.*16.*23.*42.*61.*75.*536.*','.*3.*16.*23.*42.*61.*75.*536.*','.*3.*16.*23.*42.*61.*75.*536.*','.*3.*16.*23.*42.*61.*75.*536.*'],\n",
    "    ['.*6.*','.*6.*','.*120.*','.*120.*'],\n",
    "    ['.*2.*', '.*2.*','.*2.*','.*2.*'],\n",
    "    ['.*1.*0.*0.*0.*1.*','.*1.*0.*0.*0.*1.*','.*1.*0.*0.*0.*1.*','.*1.*0.*0.*0.*1.*'],\n",
    "    ['.*6.*6.*6.*12.*12.*12.*18.*18.*18.*','.*6.*6.*6.*12.*12.*12.*18.*18.*18.*','.*6.*6.*6.*12.*12.*12.*18.*18.*18.*','.*6.*6.*6.*12.*12.*12.*18.*18.*18.*'],\n",
    "    ['.*3.*5.*','.*3.*5.*','.*3.*5.*','.*3.*5.*'],\n",
    "    ['.*gnikcar[tT].*ey[eE].*','.*gnikcar[tT].*ey[eE].*','.*gnikcar[tT].*ey[eE].*','.*gnikcar[tT].*ey[eE].*']\n",
    "]\n",
    "\n",
    "#config_names =  'ST17_01'\n",
    "\n",
    "config_datasheet = r'./BookGD.xlsx'"
   ]
  },
  {
   "cell_type": "code",
   "execution_count": 3,
   "metadata": {},
   "outputs": [
    {
     "name": "stdout",
     "output_type": "stream",
     "text": [
      "./BookGD.xlsx\n"
     ]
    }
   ],
   "source": [
    "print(config_datasheet)"
   ]
  },
  {
   "cell_type": "code",
   "execution_count": 4,
   "metadata": {},
   "outputs": [],
   "source": [
    "df_matrix = []\n",
    "raw = pd.read_excel(config_datasheet)\n",
    "\n",
    "#print(df)\n",
    "# load data\n",
    "for row, _stuff in enumerate(config_algo_names):\n",
    "    df_array = []\n",
    "    for col, _stuff in enumerate(config_prefix):\n",
    "        df = pd.DataFrame(raw, columns = [config_id_variable,config_uid_variable,\n",
    "                                          config_answer_variables[row][col]])\n",
    "        df = df.iloc[1:]\n",
    "        df = df.dropna()\n",
    "        df_array.append(df)\n",
    "        \n",
    "        \n",
    "    df_matrix.append(df_array)\n",
    "    #print(df_matrix)"
   ]
  },
  {
   "cell_type": "code",
   "execution_count": 5,
   "metadata": {},
   "outputs": [],
   "source": [
    "#print(df_matrix)\n",
    "cols = [\"id\", \"uid\",\"correctness\", \"count_val\", \"algo_name\"]\n",
    "df_BU_R = pd.DataFrame(columns=cols)\n",
    "#print(df_BU_R)\n",
    "df_BU_I = pd.DataFrame(columns=cols)\n",
    "df_TD_R = pd.DataFrame(columns=cols)\n",
    "df_TD_I = pd.DataFrame(columns=cols)\n",
    "\n",
    "for row_idx, df_row in enumerate(df_matrix):\n",
    "    algo_name = config_algo_names[row_idx]\n",
    "    for col, df in enumerate(df_row): \n",
    "        pattern = config_answer_patterns[row_idx][col]\n",
    "        regex = re.compile(pattern)\n",
    "        \n",
    "        for index, row in df.iterrows():\n",
    "\n",
    "            id_value =  row[\"CASE\"]\n",
    "            uid_value =row[\"ST17_01\"]\n",
    "            \n",
    "            answer = row[config_answer_variables[row_idx][col]]\n",
    "          \n",
    "            result = regex.match(str(answer))\n",
    "            correctness = False\n",
    "            count = 0\n",
    "            \n",
    "            if result is not None:\n",
    "                correctness = True\n",
    "                count += 1\n",
    "                \n",
    "            flag = \"\"\n",
    "            #print(flag)\n",
    "            data = pd.DataFrame([[id_value,uid_value, correctness, count, algo_name]], columns=cols)\n",
    "                  \n",
    "            if col == 0:\n",
    "                df_BU_R = df_BU_R.append(data)\n",
    "                \n",
    "            elif col == 1:\n",
    "                df_BU_I = df_BU_I.append(data)\n",
    "            elif col == 2:\n",
    "                df_TD_R = df_TD_R.append(data)\n",
    "            else:\n",
    "                df_TD_I = df_TD_I.append(data)"
   ]
  },
  {
   "cell_type": "code",
   "execution_count": 6,
   "metadata": {},
   "outputs": [],
   "source": [
    "df_array_independent = [df_BU_R, df_BU_I, df_TD_R, df_TD_I]"
   ]
  },
  {
   "cell_type": "code",
   "execution_count": 7,
   "metadata": {},
   "outputs": [
    {
     "name": "stdout",
     "output_type": "stream",
     "text": [
      "     Subject MNumber ProgrammingStyle Comprehension      Algorithm  count_val  \\\n",
      "0        125  683252                R            BU   BinarySearch          1   \n",
      "1        131  718523                R            BU   BinarySearch          1   \n",
      "2        154  679008                R            BU   BinarySearch          1   \n",
      "3        172  665346                R            BU   BinarySearch          1   \n",
      "4        173  677314                R            BU   BinarySearch          1   \n",
      "..       ...     ...              ...           ...            ...        ...   \n",
      "846      357  681740                I            TD  ReverseString          1   \n",
      "847      379  679206                I            TD  ReverseString          1   \n",
      "848      386  635459                I            TD  ReverseString          0   \n",
      "849      392  681807                I            TD  ReverseString          0   \n",
      "850      402  672559                I            TD  ReverseString          1   \n",
      "\n",
      "     Correctness  \n",
      "0           True  \n",
      "1           True  \n",
      "2           True  \n",
      "3           True  \n",
      "4           True  \n",
      "..           ...  \n",
      "846         True  \n",
      "847         True  \n",
      "848        False  \n",
      "849        False  \n",
      "850         True  \n",
      "\n",
      "[851 rows x 7 columns]\n"
     ]
    }
   ],
   "source": [
    "import statsmodels.api as sm\n",
    "from statsmodels.formula.api import ols\n",
    "cols = [\"Subject\",\"MNumber\",\"ProgrammingStyle\", \"Comprehension\", \"Algorithm\",\"count_val\", \"Correctness\"]\n",
    "\n",
    "def fill(list_data, dataframe, coding_style, comprehension_style):\n",
    "    for idx, row in dataframe.iterrows():\n",
    "    \n",
    "        algorithm = row[\"algo_name\"]\n",
    "        count = row[\"count_val\"]\n",
    "        \n",
    "        correctness = row[\"correctness\"]\n",
    "        id = row[\"id\"]\n",
    "        uid = row[\"uid\"]\n",
    "        list_data.append([id,uid,coding_style, comprehension_style, algorithm, count, correctness])\n",
    "\n",
    "data = []\n",
    "fill(data, df_BU_R, \"R\", \"BU\")\n",
    "fill(data, df_BU_I, \"I\", \"BU\")\n",
    "fill(data, df_TD_R, \"R\", \"TD\")\n",
    "fill(data, df_TD_I, \"I\", \"TD\")\n",
    "df = pd.DataFrame(data, columns=cols)\n",
    "\n",
    "print (df)\n",
    "df.to_excel(\"./results/Assignment7.xlsx\", index=False)"
   ]
  },
  {
   "cell_type": "code",
   "execution_count": 13,
   "metadata": {},
   "outputs": [
    {
     "name": "stdout",
     "output_type": "stream",
     "text": [
      "MNumber\n",
      "424000    7\n",
      "437343    4\n",
      "455428    7\n",
      "480237    8\n",
      "486086    8\n",
      "         ..\n",
      "713333    6\n",
      "713812    7\n",
      "714231    6\n",
      "718523    7\n",
      "718817    4\n",
      "Name: count_val, Length: 110, dtype: int64\n"
     ]
    }
   ],
   "source": [
    "\n",
    "df_matrix = []\n",
    "config_datasheet1 = r'./results/Assignment7.xlsx'\n",
    "df = pd.read_excel(config_datasheet1)\n",
    "\n",
    "grouped = df.groupby('MNumber',)\n",
    "df = grouped['count_val'].agg(np.sum)\n",
    "#df_matrix.append(grouped['count_val'].agg(np.sum))\n",
    "print(df)\n",
    "#writer = pd.ExcelWriter(path, engine = 'xlsxwriter')\n",
    "\n",
    "with pd.ExcelWriter('./results/Assignment7.xlsx', engine=\"openpyxl\",\n",
    "                    mode='a') as writer:  \n",
    "    df.to_excel(writer, sheet_name='Sheet_name_3')\n",
    "\n"
   ]
  },
  {
   "cell_type": "code",
   "execution_count": null,
   "metadata": {},
   "outputs": [],
   "source": [
    "#print(df.iloc[1]['Subject'])\n",
    "   \n",
    "    #if df.iloc[index]['Subject'] is df.iloc[1]['Subject']:\n",
    "    # print('hey') '\n",
    "    #for index, row in df.iterrows():\n",
    "    #if df.loc[df['Subject'] is df.iloc[index]['Subject']:\n",
    "             # df.iloc[index].count.sum()\n",
    "  #  else:\n",
    "             # print(\"a is greater than b\")\n",
    "    #for index in df.iterrows():\n",
    "   # value = df['Subject'].loc[2]\n",
    "    #print(value)\n",
    "    #test = df.loc[df['Subject'] == value, 'count'].sum()\n",
    "#print(\"value is \",test)\n",
    "#df.groupby('Subject').count.sum()"
   ]
  },
  {
   "cell_type": "code",
   "execution_count": null,
   "metadata": {},
   "outputs": [],
   "source": []
  },
  {
   "cell_type": "code",
   "execution_count": null,
   "metadata": {},
   "outputs": [],
   "source": []
  },
  {
   "cell_type": "code",
   "execution_count": null,
   "metadata": {},
   "outputs": [],
   "source": []
  },
  {
   "cell_type": "code",
   "execution_count": null,
   "metadata": {},
   "outputs": [],
   "source": []
  }
 ],
 "metadata": {
  "kernelspec": {
   "display_name": "Python 3",
   "language": "python",
   "name": "python3"
  },
  "language_info": {
   "codemirror_mode": {
    "name": "ipython",
    "version": 3
   },
   "file_extension": ".py",
   "mimetype": "text/x-python",
   "name": "python",
   "nbconvert_exporter": "python",
   "pygments_lexer": "ipython3",
   "version": "3.8.5"
  }
 },
 "nbformat": 4,
 "nbformat_minor": 4
}
